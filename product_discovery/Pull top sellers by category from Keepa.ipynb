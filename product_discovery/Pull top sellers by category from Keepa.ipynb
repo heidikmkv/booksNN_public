{
 "cells": [
  {
   "cell_type": "markdown",
   "metadata": {},
   "source": [
    "# Pull top sellers by category from Keepa\n",
    "\n",
    "Categories were obtained from Amazon in sellercentral which provides an xls file with category nodeIDs and names called [tree reports](http://docs.developer.amazonservices.com/en_US/reports/Reports_ReportType.html#ReportTypeCategories__BrowseTreeReports). The the book categories were manually edited to remove categories that aren't interesting (unlikely seasonality and likely low prices), like fiction. The category names were used to generate a list of keywords for searching for products. The trimmed-down category nodeIDs are saved to a textfile. \n",
    "\n",
    "\n",
    "PROBLEM 10/29/20 - audiobook-only products are included along with real books.\n",
    "\n",
    "Next steps: \n",
    "Search for each ASIN in MWS, check for adequate price/salesrank status, eliminate audiobooks. \n",
    "Use GetMatchingProductForId:  http://docs.developer.amazonservices.com/en_IN/products/Products_GetMatchingProductForId.html\n",
    "\n",
    "### Tokens\n",
    "Request Best Sellers consumes 50 tokens. \n",
    "Keepa refreshes 5 tokens per minute up to 300 total (on basic data plan - there are fancier plans but they cost more). \n"
   ]
  },
  {
   "cell_type": "code",
   "execution_count": 1,
   "metadata": {},
   "outputs": [
    {
     "name": "stdout",
     "output_type": "stream",
     "text": [
      "0.20.1\n"
     ]
    }
   ],
   "source": [
    "import pandas as pd\n",
    "import numpy as np\n",
    "import datetime\n",
    "import time\n",
    "import pyisbn #module for converting ISBN-13 to ISBN-10 and vice versa\n",
    "import booksnn as bnn\n",
    "import keepa\n",
    "# As of Oct 29 2020, the latest keepa version threw a spurious SSL error so had to downgrade\n",
    "print(keepa.__version__)\n",
    "\n",
    "date = datetime.datetime.now().strftime(\"%Y_%m_%d\")"
   ]
  },
  {
   "cell_type": "markdown",
   "metadata": {},
   "source": [
    "#### Load existing lists of ASINs"
   ]
  },
  {
   "cell_type": "code",
   "execution_count": null,
   "metadata": {},
   "outputs": [
    {
     "name": "stdout",
     "output_type": "stream",
     "text": [
      "expected number of hours: 588.0\n",
      "expected number of days: 24.5\n",
      "Number of ASINs found in category 6511999011: 407968. Number already in list: 989\n",
      "Number of ASINs found in category 6512000011: 409893. Number already in list: 869\n",
      "This category throws an error: 6512000011\n",
      "[Errno 2] No such file or directory: './asin_lists/asins_keepa_bestsellers_2020_12_05.csv'\n",
      "Number of ASINs found in category 6512001011: 413442. Number already in list: 960\n",
      "This category throws an error: 6512001011\n",
      "[Errno 2] No such file or directory: './asin_lists/asins_keepa_bestsellers_2020_12_05.csv'\n",
      "Number of ASINs found in category 6512002011: 416574. Number already in list: 1869\n",
      "This category throws an error: 6512002011\n",
      "[Errno 2] No such file or directory: './asin_lists/asins_keepa_bestsellers_2020_12_05.csv'\n",
      "Number of ASINs found in category 6512003011: 417327. Number already in list: 720\n",
      "This category throws an error: 6512003011\n",
      "[Errno 2] No such file or directory: './asin_lists/asins_keepa_bestsellers_2020_12_05.csv'\n",
      "Number of ASINs found in category 6905737011: 422182. Number already in list: 146\n",
      "This category throws an error: 6905737011\n",
      "[Errno 2] No such file or directory: './asin_lists/asins_keepa_bestsellers_2020_12_05.csv'\n",
      "Number of ASINs found in category 7259399011: 422494. Number already in list: 26\n",
      "This category throws an error: 7259399011\n",
      "[Errno 2] No such file or directory: './asin_lists/asins_keepa_bestsellers_2020_12_05.csv'\n"
     ]
    },
    {
     "name": "stderr",
     "output_type": "stream",
     "text": [
      "Waiting 11 seconds for additional tokens\n",
      "Response from server: NOT_ENOUGH_TOKEN\n",
      "Waiting 59 seconds for additional tokens\n",
      "Response from server: NOT_ENOUGH_TOKEN\n",
      "Waiting 59 seconds for additional tokens\n",
      "Response from server: NOT_ENOUGH_TOKEN\n",
      "Waiting 59 seconds for additional tokens\n",
      "Response from server: NOT_ENOUGH_TOKEN\n",
      "Waiting 59 seconds for additional tokens\n",
      "Response from server: NOT_ENOUGH_TOKEN\n",
      "Waiting 59 seconds for additional tokens\n",
      "Response from server: NOT_ENOUGH_TOKEN\n",
      "Waiting 59 seconds for additional tokens\n",
      "Response from server: NOT_ENOUGH_TOKEN\n",
      "Waiting 59 seconds for additional tokens\n",
      "Response from server: NOT_ENOUGH_TOKEN\n",
      "Waiting 59 seconds for additional tokens\n"
     ]
    },
    {
     "name": "stdout",
     "output_type": "stream",
     "text": [
      "Number of ASINs found in category 7259400011: 423072. Number already in list: 192\n",
      "This category throws an error: 7259400011\n",
      "[Errno 2] No such file or directory: './asin_lists/asins_keepa_bestsellers_2020_12_05.csv'\n"
     ]
    },
    {
     "name": "stderr",
     "output_type": "stream",
     "text": [
      "Waiting 55 seconds for additional tokens\n",
      "Response from server: NOT_ENOUGH_TOKEN\n",
      "Waiting 59 seconds for additional tokens\n",
      "Response from server: NOT_ENOUGH_TOKEN\n",
      "Waiting 59 seconds for additional tokens\n",
      "Response from server: NOT_ENOUGH_TOKEN\n",
      "Waiting 59 seconds for additional tokens\n",
      "Response from server: NOT_ENOUGH_TOKEN\n",
      "Waiting 59 seconds for additional tokens\n",
      "Response from server: NOT_ENOUGH_TOKEN\n",
      "Waiting 59 seconds for additional tokens\n",
      "Response from server: NOT_ENOUGH_TOKEN\n",
      "Waiting 59 seconds for additional tokens\n",
      "Response from server: NOT_ENOUGH_TOKEN\n",
      "Waiting 59 seconds for additional tokens\n"
     ]
    }
   ],
   "source": [
    "#Load file if any categories were already loaded and saved. \n",
    "keepa_bestseller_asins = list(pd.read_table('./asin_lists/asins_keepa_bestsellers_2020_12_04.csv')['column'])\n",
    "\n",
    "#keepa_bestseller_asins = []\n",
    "print('expected number of hours: ' + str(len(nodeids)/6))\n",
    "print('expected number of days: ' + str(len(nodeids)/(6*24)))\n",
    "\n",
    "for id in nodeids[nodeids.index(6511998011)+1:]:\n",
    "    try:\n",
    "        # Caution! this consumes 50 tokens\n",
    "        asins = api.best_sellers_query(str(id))\n",
    "        num_duplicates = 0\n",
    "        for asin in asins: \n",
    "            if asin not in keepa_bestseller_asins:\n",
    "                keepa_bestseller_asins.append(asin)\n",
    "            else:\n",
    "                num_duplicates+=1\n",
    "        print('Number of ASINs found in category '+ str(id) + ': ' + str(len(keepa_bestseller_asins)),end='. ')\n",
    "        print('Number already in list: ' + str(num_duplicates))\n",
    "\n",
    "        asindf = pd.DataFrame(keepa_bestseller_asins, columns=[\"column\"])\n",
    "        asindf.to_csv('./asin_lists/asins_keepa_bestsellers_'+date+'.csv', index=False)\n",
    "        time.sleep(600)\n",
    "    except Exception as e:\n",
    "        print('This category throws an error: '+str(id))\n",
    "        print(e) \n"
   ]
  },
  {
   "cell_type": "markdown",
   "metadata": {},
   "source": [
    "#### "
   ]
  },
  {
   "cell_type": "code",
   "execution_count": null,
   "metadata": {},
   "outputs": [],
   "source": [
    "#https://keepa.com/#!discuss/t/retrieve-token-status/1305\n",
    "api.time_to_refill"
   ]
  },
  {
   "cell_type": "code",
   "execution_count": null,
   "metadata": {},
   "outputs": [],
   "source": [
    "# Useful: keepa API already does rate-limiting. Here's the snippet from the code: \n",
    "''' \n",
    "        # Wait if no tokens available\n",
    "        if self.tokens_left <= 0:\n",
    "            tdelay = self.time_to_refill\n",
    "            log.warning('Waiting %.0f seconds for additional tokens' % tdelay)\n",
    "            time.sleep(tdelay)\n",
    "            self.update_status()\n",
    "'''"
   ]
  },
  {
   "cell_type": "code",
   "execution_count": null,
   "metadata": {},
   "outputs": [],
   "source": [
    "keepa_bestseller_asins = list(pd.read_table('./asin_lists/asins_keepa_bestsellers_2020_11_30.csv')['column'])\n"
   ]
  },
  {
   "cell_type": "code",
   "execution_count": null,
   "metadata": {},
   "outputs": [],
   "source": [
    "nodeids.index(379357011)"
   ]
  },
  {
   "cell_type": "code",
   "execution_count": null,
   "metadata": {},
   "outputs": [],
   "source": []
  },
  {
   "cell_type": "code",
   "execution_count": null,
   "metadata": {},
   "outputs": [],
   "source": [
    "nodeids"
   ]
  },
  {
   "cell_type": "code",
   "execution_count": null,
   "metadata": {},
   "outputs": [],
   "source": []
  }
 ],
 "metadata": {
  "kernelspec": {
   "display_name": "Python 3",
   "language": "python",
   "name": "python3"
  },
  "language_info": {
   "codemirror_mode": {
    "name": "ipython",
    "version": 3
   },
   "file_extension": ".py",
   "mimetype": "text/x-python",
   "name": "python",
   "nbconvert_exporter": "python",
   "pygments_lexer": "ipython3",
   "version": "3.8.5"
  }
 },
 "nbformat": 4,
 "nbformat_minor": 4
}
