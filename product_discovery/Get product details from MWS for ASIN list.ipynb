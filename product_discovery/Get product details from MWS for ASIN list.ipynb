{
 "cells": [
  {
   "cell_type": "markdown",
   "metadata": {},
   "source": [
    "# Evaluate ASIN list for products worth tracking\n",
    "Specifically, Keepa bestseller results, which are ASINs only, and many Audiobooks mixed in. "
   ]
  },
  {
   "cell_type": "code",
   "execution_count": 1,
   "metadata": {},
   "outputs": [
    {
     "name": "stderr",
     "output_type": "stream",
     "text": [
      "<frozen importlib._bootstrap>:219: RuntimeWarning: numpy.ufunc size changed, may indicate binary incompatibility. Expected 192 from C header, got 216 from PyObject\n",
      "<frozen importlib._bootstrap>:219: RuntimeWarning: numpy.ufunc size changed, may indicate binary incompatibility. Expected 192 from C header, got 216 from PyObject\n",
      "<frozen importlib._bootstrap>:219: RuntimeWarning: numpy.ufunc size changed, may indicate binary incompatibility. Expected 192 from C header, got 216 from PyObject\n",
      "<frozen importlib._bootstrap>:219: RuntimeWarning: numpy.ufunc size changed, may indicate binary incompatibility. Expected 192 from C header, got 216 from PyObject\n"
     ]
    }
   ],
   "source": [
    "import pandas as pd\n",
    "import random\n",
    "import mws\n",
    "import datetime\n",
    "import time\n",
    "from tenacity import *  \n",
    "\n",
    "import booksnn as bnn\n",
    "\n",
    "date = datetime.datetime.now().strftime(\"%Y_%m_%d\")"
   ]
  },
  {
   "cell_type": "markdown",
   "metadata": {},
   "source": [
    "### Load ASIN list"
   ]
  },
  {
   "cell_type": "code",
   "execution_count": 2,
   "metadata": {},
   "outputs": [
    {
     "name": "stderr",
     "output_type": "stream",
     "text": [
      "/home/lynx/anaconda3/envs/booksnn/lib/python3.8/site-packages/ipykernel/ipkernel.py:287: DeprecationWarning: `should_run_async` will not call `transform_cell` automatically in the future. Please pass the result to `transformed_cell` argument and any exception that happen during thetransform in `preprocessing_exc_tuple` in IPython 7.17 and above.\n",
      "  and should_run_async(code)\n"
     ]
    }
   ],
   "source": [
    "# Pick the list\n",
    "all_asins = list(pd.read_table('./asin_lists/asins_keepa_bestsellers_2020_11_30.csv')['column'])\n",
    "\n",
    "# Set name of output csvs, which probably depend upon ASIN list loaded\n",
    "moreinfo_csv_name = './asin_lists/asins_keepa_bestsellers_moreinfo_2020_11_30.csv'\n",
    "result_csv_name = './asin_lists/asins_keepa_bestsellers_interesting_2020_11_30.csv'"
   ]
  },
  {
   "cell_type": "markdown",
   "metadata": {},
   "source": [
    "### Connect to MWS"
   ]
  },
  {
   "cell_type": "code",
   "execution_count": 3,
   "metadata": {},
   "outputs": [],
   "source": [
    "products_api = mws.Products(access_key='blahblahblah',\n",
    "                        secret_key='blahblahblah',\n",
    "                        account_id='blahblahblah')\n",
    "marketplace_id = mws.Marketplaces.US.marketplace_id\n",
    "products_api._use_feature_mwsresponse = True #use new format"
   ]
  },
  {
   "cell_type": "markdown",
   "metadata": {},
   "source": [
    "### Iterate through asins"
   ]
  },
  {
   "cell_type": "code",
   "execution_count": 4,
   "metadata": {},
   "outputs": [
    {
     "name": "stdout",
     "output_type": "stream",
     "text": [
      "saving results\n",
      "saving results\n",
      "saving results\n",
      "saving results\n",
      "no search results for: 1908476877\n",
      "saving results\n",
      "saving results\n",
      "saving results\n",
      "saving results\n",
      "saving results\n",
      "saving results\n",
      "no search results for: B08LNBH326\n",
      "no search results for: B08BF14N6H\n",
      "no search results for: B086Y5JCHZ\n",
      "saving results\n",
      "no search results for: B08L47RWFV\n",
      "no search results for: B08JF5M43Q\n",
      "no search results for: B08JDYXPF3\n",
      "saving results\n",
      "no search results for: B08HT863TX\n",
      "saving results\n",
      "no search results for: 1798735210\n",
      "no search results for: 1697008062\n",
      "no search results for: B087HC34WD\n",
      "saving results\n",
      "no search results for: B08JF5HND3\n",
      "no search results for: B08JF5DJFX\n",
      "saving results\n",
      "no search results for: B08DBZDFQQ\n",
      "saving results\n",
      "saving results\n",
      "saving results\n",
      "no search results for: B08B73YTQQ\n",
      "saving results\n",
      "no search results for: 153002157X\n",
      "saving results\n",
      "saving results\n",
      "saving results\n",
      "saving results\n",
      "saving results\n",
      "no search results for: 108063133X\n",
      "saving results\n",
      "saving results\n",
      "saving results\n",
      "saving results\n",
      "saving results\n",
      "saving results\n",
      "no search results for: 1731546424\n",
      "no search results for: 1518672272\n",
      "saving results\n",
      "no search results for: 1977996272\n",
      "saving results\n",
      "no search results for: 1518742440\n",
      "saving results\n",
      "no search results for: 1516891864\n",
      "saving results\n",
      "no search results for: B08KTHG6LX\n",
      "no search results for: B08KH3RXXX\n",
      "saving results\n",
      "saving results\n",
      "saving results\n",
      "no search results for: 1517049377\n",
      "saving results\n",
      "no search results for: 151704880X\n",
      "saving results\n",
      "saving results\n",
      "saving results\n",
      "saving results\n",
      "saving results\n",
      "saving results\n",
      "saving results\n",
      "saving results\n",
      "saving results\n",
      "saving results\n",
      "saving results\n",
      "saving results\n",
      "saving results\n",
      "saving results\n",
      "saving results\n",
      "saving results\n",
      "saving results\n",
      "saving results\n",
      "saving results\n",
      "saving results\n",
      "saving results\n",
      "saving results\n",
      "saving results\n",
      "saving results\n",
      "saving results\n",
      "saving results\n",
      "saving results\n",
      "saving results\n",
      "saving results\n",
      "saving results\n",
      "saving results\n",
      "saving results\n",
      "saving results\n",
      "saving results\n",
      "saving results\n",
      "saving results\n",
      "saving results\n",
      "saving results\n",
      "saving results\n",
      "saving results\n",
      "saving results\n",
      "saving results\n",
      "saving results\n",
      "saving results\n"
     ]
    }
   ],
   "source": [
    "i = 0\n",
    "new_asins_df = pd.DataFrame(columns=[])\n",
    "for asin in all_asins:\n",
    "    #print(asin,end=', ')\n",
    "    time.sleep(0.1) #18000 requests per hour\n",
    "    try: # will fail if no search results for this asin\n",
    "        response = products_api.get_matching_product_for_id(marketplace_id, 'ASIN',ids=[asin])\n",
    "        title = response.parsed.Products.Product.AttributeSets.ItemAttributes.Title\n",
    "\n",
    "        try: \n",
    "            pubdate = response.parsed.Products.Product.AttributeSets.ItemAttributes.PublicationDate\n",
    "            pubdate = datetime.datetime(int(pubdate[0:4]),int(pubdate[5:7]),int(pubdate[8:10]))\n",
    "        except: \n",
    "            pubdate = datetime.datetime.now().strftime(\"%Y-%m-%d\")\n",
    "\n",
    "        try: \n",
    "            listprice = float(response.parsed.Products.Product.AttributeSets.ItemAttributes.ListPrice.Amount)\n",
    "        except: \n",
    "            listprice = 0\n",
    "\n",
    "        try: \n",
    "            salesrank = response.parsed.Products.Product.SalesRankings.SalesRank[0].Rank\n",
    "        except: \n",
    "            salesrank = 0\n",
    "\n",
    "        try: \n",
    "            num_pages = int(response.parsed.Products.Product.AttributeSets.ItemAttributes.NumberOfPages)\n",
    "        except: \n",
    "            num_pages = 0 #indicates poor listing, or audiobook\n",
    "\n",
    "        product_info = {'asin': asin,\n",
    "                        'title': title,\n",
    "                        'pubdate': pubdate,\n",
    "                        'listprice': listprice,\n",
    "                        'salesrank': salesrank,\n",
    "                        'num_pages': num_pages}\n",
    "        new_asins_df = new_asins_df.append([product_info],ignore_index=True)\n",
    "\n",
    "        i = i+1\n",
    "        if i == 1000: #save results\n",
    "            print('saving results')\n",
    "            new_asins_df.to_csv(moreinfo_csv_name,index=False,sep='\\t')\n",
    "            i=0\n",
    "    except: \n",
    "        print('no search results for: '+asin)"
   ]
  },
  {
   "cell_type": "code",
   "execution_count": 5,
   "metadata": {
    "scrolled": false
   },
   "outputs": [],
   "source": [
    "# final save\n",
    "new_asins_df.to_csv(moreinfo_csv_name,index=False,sep='\\t')"
   ]
  },
  {
   "cell_type": "code",
   "execution_count": 6,
   "metadata": {},
   "outputs": [
    {
     "data": {
      "text/plain": [
       "168"
      ]
     },
     "execution_count": 6,
     "metadata": {},
     "output_type": "execute_result"
    }
   ],
   "source": [
    "i"
   ]
  },
  {
   "cell_type": "markdown",
   "metadata": {},
   "source": [
    "#### Check criteria for interesting product"
   ]
  },
  {
   "cell_type": "code",
   "execution_count": 7,
   "metadata": {},
   "outputs": [
    {
     "ename": "TypeError",
     "evalue": "'<' not supported between instances of 'str' and 'int'",
     "output_type": "error",
     "traceback": [
      "\u001b[0;31m---------------------------------------------------------------------------\u001b[0m",
      "\u001b[0;31mTypeError\u001b[0m                                 Traceback (most recent call last)",
      "\u001b[0;32m<ipython-input-7-ff82aa610226>\u001b[0m in \u001b[0;36m<module>\u001b[0;34m\u001b[0m\n\u001b[1;32m      1\u001b[0m \u001b[0;31m#check listprice and salesrank\u001b[0m\u001b[0;34m\u001b[0m\u001b[0;34m\u001b[0m\u001b[0;34m\u001b[0m\u001b[0m\n\u001b[0;32m----> 2\u001b[0;31m \u001b[0minteresting_df\u001b[0m \u001b[0;34m=\u001b[0m \u001b[0mnew_asins_df\u001b[0m\u001b[0;34m[\u001b[0m\u001b[0;34m(\u001b[0m\u001b[0mnew_asins_df\u001b[0m\u001b[0;34m[\u001b[0m\u001b[0;34m'listprice'\u001b[0m\u001b[0;34m]\u001b[0m \u001b[0;34m>\u001b[0m \u001b[0;36m25\u001b[0m\u001b[0;34m)\u001b[0m \u001b[0;34m&\u001b[0m \u001b[0;34m(\u001b[0m\u001b[0mnew_asins_df\u001b[0m\u001b[0;34m[\u001b[0m\u001b[0;34m'salesrank'\u001b[0m\u001b[0;34m]\u001b[0m \u001b[0;34m<\u001b[0m \u001b[0;36m2000000\u001b[0m\u001b[0;34m)\u001b[0m\u001b[0;34m]\u001b[0m\u001b[0;34m\u001b[0m\u001b[0;34m\u001b[0m\u001b[0m\n\u001b[0m\u001b[1;32m      3\u001b[0m \u001b[0;31m#check older than 6mo\u001b[0m\u001b[0;34m\u001b[0m\u001b[0;34m\u001b[0m\u001b[0;34m\u001b[0m\u001b[0m\n\u001b[1;32m      4\u001b[0m \u001b[0minteresting_df\u001b[0m \u001b[0;34m=\u001b[0m \u001b[0minteresting_df\u001b[0m\u001b[0;34m[\u001b[0m\u001b[0minteresting_df\u001b[0m\u001b[0;34m[\u001b[0m\u001b[0;34m'pubdate'\u001b[0m\u001b[0;34m]\u001b[0m \u001b[0;34m<\u001b[0m \u001b[0mdatetime\u001b[0m\u001b[0;34m.\u001b[0m\u001b[0mdatetime\u001b[0m\u001b[0;34m.\u001b[0m\u001b[0mnow\u001b[0m\u001b[0;34m(\u001b[0m\u001b[0;34m)\u001b[0m\u001b[0;34m-\u001b[0m\u001b[0mdatetime\u001b[0m\u001b[0;34m.\u001b[0m\u001b[0mtimedelta\u001b[0m\u001b[0;34m(\u001b[0m\u001b[0mdays\u001b[0m \u001b[0;34m=\u001b[0m \u001b[0;36m180\u001b[0m\u001b[0;34m)\u001b[0m\u001b[0;34m]\u001b[0m\u001b[0;34m\u001b[0m\u001b[0;34m\u001b[0m\u001b[0m\n\u001b[1;32m      5\u001b[0m \u001b[0;31m# check nonzero pages\u001b[0m\u001b[0;34m\u001b[0m\u001b[0;34m\u001b[0m\u001b[0;34m\u001b[0m\u001b[0m\n",
      "\u001b[0;32m~/anaconda3/envs/booksnn/lib/python3.8/site-packages/pandas/core/ops/common.py\u001b[0m in \u001b[0;36mnew_method\u001b[0;34m(self, other)\u001b[0m\n\u001b[1;32m     63\u001b[0m         \u001b[0mother\u001b[0m \u001b[0;34m=\u001b[0m \u001b[0mitem_from_zerodim\u001b[0m\u001b[0;34m(\u001b[0m\u001b[0mother\u001b[0m\u001b[0;34m)\u001b[0m\u001b[0;34m\u001b[0m\u001b[0;34m\u001b[0m\u001b[0m\n\u001b[1;32m     64\u001b[0m \u001b[0;34m\u001b[0m\u001b[0m\n\u001b[0;32m---> 65\u001b[0;31m         \u001b[0;32mreturn\u001b[0m \u001b[0mmethod\u001b[0m\u001b[0;34m(\u001b[0m\u001b[0mself\u001b[0m\u001b[0;34m,\u001b[0m \u001b[0mother\u001b[0m\u001b[0;34m)\u001b[0m\u001b[0;34m\u001b[0m\u001b[0;34m\u001b[0m\u001b[0m\n\u001b[0m\u001b[1;32m     66\u001b[0m \u001b[0;34m\u001b[0m\u001b[0m\n\u001b[1;32m     67\u001b[0m     \u001b[0;32mreturn\u001b[0m \u001b[0mnew_method\u001b[0m\u001b[0;34m\u001b[0m\u001b[0;34m\u001b[0m\u001b[0m\n",
      "\u001b[0;32m~/anaconda3/envs/booksnn/lib/python3.8/site-packages/pandas/core/ops/__init__.py\u001b[0m in \u001b[0;36mwrapper\u001b[0;34m(self, other)\u001b[0m\n\u001b[1;32m    368\u001b[0m         \u001b[0mrvalues\u001b[0m \u001b[0;34m=\u001b[0m \u001b[0mextract_array\u001b[0m\u001b[0;34m(\u001b[0m\u001b[0mother\u001b[0m\u001b[0;34m,\u001b[0m \u001b[0mextract_numpy\u001b[0m\u001b[0;34m=\u001b[0m\u001b[0;32mTrue\u001b[0m\u001b[0;34m)\u001b[0m\u001b[0;34m\u001b[0m\u001b[0;34m\u001b[0m\u001b[0m\n\u001b[1;32m    369\u001b[0m \u001b[0;34m\u001b[0m\u001b[0m\n\u001b[0;32m--> 370\u001b[0;31m         \u001b[0mres_values\u001b[0m \u001b[0;34m=\u001b[0m \u001b[0mcomparison_op\u001b[0m\u001b[0;34m(\u001b[0m\u001b[0mlvalues\u001b[0m\u001b[0;34m,\u001b[0m \u001b[0mrvalues\u001b[0m\u001b[0;34m,\u001b[0m \u001b[0mop\u001b[0m\u001b[0;34m)\u001b[0m\u001b[0;34m\u001b[0m\u001b[0;34m\u001b[0m\u001b[0m\n\u001b[0m\u001b[1;32m    371\u001b[0m \u001b[0;34m\u001b[0m\u001b[0m\n\u001b[1;32m    372\u001b[0m         \u001b[0;32mreturn\u001b[0m \u001b[0mself\u001b[0m\u001b[0;34m.\u001b[0m\u001b[0m_construct_result\u001b[0m\u001b[0;34m(\u001b[0m\u001b[0mres_values\u001b[0m\u001b[0;34m,\u001b[0m \u001b[0mname\u001b[0m\u001b[0;34m=\u001b[0m\u001b[0mres_name\u001b[0m\u001b[0;34m)\u001b[0m\u001b[0;34m\u001b[0m\u001b[0;34m\u001b[0m\u001b[0m\n",
      "\u001b[0;32m~/anaconda3/envs/booksnn/lib/python3.8/site-packages/pandas/core/ops/array_ops.py\u001b[0m in \u001b[0;36mcomparison_op\u001b[0;34m(left, right, op)\u001b[0m\n\u001b[1;32m    242\u001b[0m \u001b[0;34m\u001b[0m\u001b[0m\n\u001b[1;32m    243\u001b[0m     \u001b[0;32melif\u001b[0m \u001b[0mis_object_dtype\u001b[0m\u001b[0;34m(\u001b[0m\u001b[0mlvalues\u001b[0m\u001b[0;34m.\u001b[0m\u001b[0mdtype\u001b[0m\u001b[0;34m)\u001b[0m\u001b[0;34m:\u001b[0m\u001b[0;34m\u001b[0m\u001b[0;34m\u001b[0m\u001b[0m\n\u001b[0;32m--> 244\u001b[0;31m         \u001b[0mres_values\u001b[0m \u001b[0;34m=\u001b[0m \u001b[0mcomp_method_OBJECT_ARRAY\u001b[0m\u001b[0;34m(\u001b[0m\u001b[0mop\u001b[0m\u001b[0;34m,\u001b[0m \u001b[0mlvalues\u001b[0m\u001b[0;34m,\u001b[0m \u001b[0mrvalues\u001b[0m\u001b[0;34m)\u001b[0m\u001b[0;34m\u001b[0m\u001b[0;34m\u001b[0m\u001b[0m\n\u001b[0m\u001b[1;32m    245\u001b[0m \u001b[0;34m\u001b[0m\u001b[0m\n\u001b[1;32m    246\u001b[0m     \u001b[0;32melse\u001b[0m\u001b[0;34m:\u001b[0m\u001b[0;34m\u001b[0m\u001b[0;34m\u001b[0m\u001b[0m\n",
      "\u001b[0;32m~/anaconda3/envs/booksnn/lib/python3.8/site-packages/pandas/core/ops/array_ops.py\u001b[0m in \u001b[0;36mcomp_method_OBJECT_ARRAY\u001b[0;34m(op, x, y)\u001b[0m\n\u001b[1;32m     54\u001b[0m         \u001b[0mresult\u001b[0m \u001b[0;34m=\u001b[0m \u001b[0mlibops\u001b[0m\u001b[0;34m.\u001b[0m\u001b[0mvec_compare\u001b[0m\u001b[0;34m(\u001b[0m\u001b[0mx\u001b[0m\u001b[0;34m.\u001b[0m\u001b[0mravel\u001b[0m\u001b[0;34m(\u001b[0m\u001b[0;34m)\u001b[0m\u001b[0;34m,\u001b[0m \u001b[0my\u001b[0m\u001b[0;34m.\u001b[0m\u001b[0mravel\u001b[0m\u001b[0;34m(\u001b[0m\u001b[0;34m)\u001b[0m\u001b[0;34m,\u001b[0m \u001b[0mop\u001b[0m\u001b[0;34m)\u001b[0m\u001b[0;34m\u001b[0m\u001b[0;34m\u001b[0m\u001b[0m\n\u001b[1;32m     55\u001b[0m     \u001b[0;32melse\u001b[0m\u001b[0;34m:\u001b[0m\u001b[0;34m\u001b[0m\u001b[0;34m\u001b[0m\u001b[0m\n\u001b[0;32m---> 56\u001b[0;31m         \u001b[0mresult\u001b[0m \u001b[0;34m=\u001b[0m \u001b[0mlibops\u001b[0m\u001b[0;34m.\u001b[0m\u001b[0mscalar_compare\u001b[0m\u001b[0;34m(\u001b[0m\u001b[0mx\u001b[0m\u001b[0;34m.\u001b[0m\u001b[0mravel\u001b[0m\u001b[0;34m(\u001b[0m\u001b[0;34m)\u001b[0m\u001b[0;34m,\u001b[0m \u001b[0my\u001b[0m\u001b[0;34m,\u001b[0m \u001b[0mop\u001b[0m\u001b[0;34m)\u001b[0m\u001b[0;34m\u001b[0m\u001b[0;34m\u001b[0m\u001b[0m\n\u001b[0m\u001b[1;32m     57\u001b[0m     \u001b[0;32mreturn\u001b[0m \u001b[0mresult\u001b[0m\u001b[0;34m.\u001b[0m\u001b[0mreshape\u001b[0m\u001b[0;34m(\u001b[0m\u001b[0mx\u001b[0m\u001b[0;34m.\u001b[0m\u001b[0mshape\u001b[0m\u001b[0;34m)\u001b[0m\u001b[0;34m\u001b[0m\u001b[0;34m\u001b[0m\u001b[0m\n\u001b[1;32m     58\u001b[0m \u001b[0;34m\u001b[0m\u001b[0m\n",
      "\u001b[0;32mpandas/_libs/ops.pyx\u001b[0m in \u001b[0;36mpandas._libs.ops.scalar_compare\u001b[0;34m()\u001b[0m\n",
      "\u001b[0;31mTypeError\u001b[0m: '<' not supported between instances of 'str' and 'int'"
     ]
    }
   ],
   "source": [
    "#check listprice and salesrank\n",
    "interesting_df = new_asins_df[(new_asins_df['listprice'] > 25) & (new_asins_df['salesrank'] < 2000000)]\n",
    "#check older than 6mo\n",
    "interesting_df = interesting_df[interesting_df['pubdate'] < datetime.datetime.now()-datetime.timedelta(days = 180)]\n",
    "# check nonzero pages\n",
    "interesting_df = interesting_df[interesting_df['num_pages'] > 0]\n",
    "\n",
    "#check not in existing list\n",
    "#asins_in_db = bnn.get_asin_list()\n",
    "#interesting_df = interesting_df[~interesting_df['asin'].isin(asins_in_db)]\n",
    "\n",
    "\n",
    "print('Number of ASINs found: ' + str(len(new_asins_df)))\n",
    "print('Number of them that are interesting: ' + str(len(interesting_df)))"
   ]
  },
  {
   "cell_type": "code",
   "execution_count": null,
   "metadata": {},
   "outputs": [],
   "source": [
    "new_asins_df[new_asins_df['num_pages']>0]"
   ]
  },
  {
   "cell_type": "code",
   "execution_count": null,
   "metadata": {},
   "outputs": [],
   "source": [
    "new_asins_df"
   ]
  },
  {
   "cell_type": "code",
   "execution_count": null,
   "metadata": {},
   "outputs": [],
   "source": []
  }
 ],
 "metadata": {
  "kernelspec": {
   "display_name": "Python 3",
   "language": "python",
   "name": "python3"
  },
  "language_info": {
   "codemirror_mode": {
    "name": "ipython",
    "version": 3
   },
   "file_extension": ".py",
   "mimetype": "text/x-python",
   "name": "python",
   "nbconvert_exporter": "python",
   "pygments_lexer": "ipython3",
   "version": "3.8.5"
  }
 },
 "nbformat": 4,
 "nbformat_minor": 4
}
